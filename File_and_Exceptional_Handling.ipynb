{
  "nbformat": 4,
  "nbformat_minor": 0,
  "metadata": {
    "colab": {
      "provenance": []
    },
    "kernelspec": {
      "name": "python3",
      "display_name": "Python 3"
    },
    "language_info": {
      "name": "python"
    }
  },
  "cells": [
    {
      "cell_type": "code",
      "execution_count": null,
      "metadata": {
        "id": "ZhW8OpKj4Pxm"
      },
      "outputs": [],
      "source": [
        "## 1. Discuss the scenarios where multithreading is preferable to multiprocessing and scenarios where multiprocessing is a better choice.\n",
        "Multithreading is preferable when:\n",
        "\n",
        "I/O-bound tasks: Tasks waiting on I/O (e.g., network requests, file I/O) benefit from multithreading, as threads can run concurrently and\n",
        " release the GIL (Global Interpreter Lock in Python) during I/O waits.\n",
        "\n",
        "Shared memory access: Threads share memory, so multithreading is efficient when tasks need to share large data structures, reducing memory\n",
        "overhead and avoiding data duplication.\n",
        "\n",
        "Lightweight tasks: Threads have lower memory footprint and overhead, so they are ideal for tasks with minimal CPU requirements.\n",
        "\n",
        "Multiprocessing is better when:\n",
        "\n",
        "CPU-bound tasks: Tasks that need significant CPU computation benefit from multiprocessing, as each process runs independently without the GIL,\n",
        "allowing true parallel execution.\n",
        "\n",
        "Isolation and stability: Separate processes are more isolated, so a failure in one process doesn't crash others,\n",
        "which is useful for fault-tolerant systems.\n",
        "\n",
        "Scalability on multi-core systems: Processes can fully utilize multiple cores for compute-heavy workloads,\n",
        "unlike threads that are limited by the GIL in languages like Python."
      ]
    },
    {
      "cell_type": "code",
      "source": [
        "## 2. Describe what a process pool is and how it helps in managing multiple processes efficiently.\n",
        "A process pool is a collection of worker processes that a program can use to execute multiple tasks concurrently.\n",
        "Instead of creating and destroying a new process for each task, which is resource-intensive, a process pool reuses a fixed number of processes.\n",
        " This allows tasks to be distributed among available workers, improving performance and reducing overhead.\n",
        " Process pools are especially useful in parallel processing, as they manage process lifecycle and load balancing,\n",
        " enabling efficient handling of multiple tasks simultaneously."
      ],
      "metadata": {
        "id": "s6pVqbaicl5e"
      },
      "execution_count": null,
      "outputs": []
    },
    {
      "cell_type": "code",
      "source": [
        "## 3. Explain what multiprocessing is and why it is used in Python programs.\n",
        "Multiprocessing is a technique that enables a program to execute multiple processes simultaneously,\n",
        " each with its own memory space and resources. In Python, the multiprocessing module provides a way to create and manage these processes,\n",
        "  allowing tasks to run in parallel rather than sequentially.\n",
        "\n",
        "  Why Multiprocessing is Used in Python:\n",
        "\n",
        "  Python has a Global Interpreter Lock (GIL) that prevents multiple threads from executing Python bytecode simultaneously within a single process.\n",
        "   This limitation restricts the effectiveness of multithreading for CPU-bound tasks (tasks that require heavy computation).\n",
        "   Multiprocessing bypasses the GIL by creating separate processes, each with its own interpreter and memory space, enabling true parallel execution on multi-core CPUs.\n",
        "\n"
      ],
      "metadata": {
        "id": "61QYiJBndPL_"
      },
      "execution_count": null,
      "outputs": []
    },
    {
      "cell_type": "code",
      "source": [
        "## 4. Write a Python program using multithreading where one thread adds numbers to a list, and another\n",
        "thread removes numbers from the list. Implement a mechanism to avoid race conditions using\n",
        "threading.Lock.\n",
        "\n",
        "Here's a Python program using threading and threading.Lock to safely add and remove numbers from a shared list.\n",
        " The Lock prevents race conditions by ensuring only one thread accesses the list at a time.\n",
        "\n",
        " import threading\n",
        "import time\n",
        "\n",
        "# Shared list and lock\n",
        "numbers = []\n",
        "lock = threading.Lock()\n",
        "\n",
        "# Function to add numbers to the list\n",
        "def add_numbers():\n",
        "    for i in range(5):\n",
        "        with lock:\n",
        "            numbers.append(i)\n",
        "            print(f\"Added: {i}, List: {numbers}\")\n",
        "        time.sleep(1)\n",
        "\n",
        "# Function to remove numbers from the list\n",
        "def remove_numbers():\n",
        "    for _ in range(5):\n",
        "        with lock:\n",
        "            if numbers:\n",
        "                removed = numbers.pop(0)\n",
        "                print(f\"Removed: {removed}, List: {numbers}\")\n",
        "        time.sleep(1.5)\n",
        "\n",
        "# Create and start threads\n",
        "adder_thread = threading.Thread(target=add_numbers)\n",
        "remover_thread = threading.Thread(target=remove_numbers)\n",
        "\n",
        "adder_thread.start()\n",
        "remover_thread.start()\n",
        "\n",
        "# Wait for both threads to finish\n",
        "adder_thread.join()\n",
        "remover_thread.join()\n",
        "\n",
        "print(\"Final List:\", numbers)\n",
        "\n"
      ],
      "metadata": {
        "id": "B4lv4KZnd9xG"
      },
      "execution_count": null,
      "outputs": []
    },
    {
      "cell_type": "code",
      "source": [
        "## 5. Describe the methods and tools available in Python for safely sharing data between threads and processes.\n",
        "\n",
        "For Threads:\n",
        "Locks (threading.Lock): Ensures only one thread accesses a critical section at a time.\n",
        "RLocks (threading.RLock): Reentrant locks for recursive access by the same thread.\n",
        "Condition Variables (threading.Condition): Synchronize threads based on conditions.\n",
        "Semaphores (threading.Semaphore): Limit the number of threads accessing a resource.\n",
        "Queue (queue.Queue): Thread-safe FIFO data structure for communication.\n",
        "\n",
        "For Processes:\n",
        "Shared Memory (multiprocessing.Value, multiprocessing.Array): Share data directly in memory.\n",
        "Managers (multiprocessing.Manager): Provide shared Python objects like lists and dictionaries.\n",
        "Queues (multiprocessing.Queue): Process-safe communication mechanism.\n",
        "Pipes (multiprocessing.Pipe): Two-way communication between processes.\n",
        "Synchronization Primitives: Locks, Semaphores, and Conditions for safe access.\n",
        "\n"
      ],
      "metadata": {
        "id": "D1m5KfNle0Vo"
      },
      "execution_count": null,
      "outputs": []
    },
    {
      "cell_type": "code",
      "source": [
        "## 6.  Discuss why it’s crucial to handle exceptions in concurrent programs and the techniques available for doing so.\n",
        "\n",
        "Importance of Handling Exceptions in Concurrent Programs:\n",
        "Program Stability: Prevent crashes and ensure smooth execution.\n",
        "Resource Management: Avoid resource leaks (e.g., locks, files).\n",
        "Deadlock Prevention: Release locks even during failures.\n",
        "Error Detection: Identify and propagate errors effectively.\n",
        "Data Integrity: Maintain consistency of shared resources.\n",
        "\n",
        "\n",
        "Techniques for Exception Handling:\n",
        "try-except Blocks: Safely handle exceptions in threads or processes.\n",
        "Context Managers: Use with to ensure resource cleanup (e.g., releasing locks).\n",
        "Thread/Process Wrapping: Wrap thread/process code in try-except.\n",
        "Executors: Use concurrent.futures to propagate exceptions safely.\n",
        "Logging: Log exceptions for debugging and error analysis.\n",
        "Fail-Safe Mechanisms: Implement retries or fallback procedures.\n",
        "\n",
        "\n"
      ],
      "metadata": {
        "id": "LHz3hYxAgHl8"
      },
      "execution_count": null,
      "outputs": []
    },
    {
      "cell_type": "code",
      "source": [
        "##7. Create a program that uses a thread pool to calculate the factorial of numbers from 1 to 10 concurrently.\n",
        "Use concurrent.futures.ThreadPoolExecutor to manage the threads.\n",
        "\n",
        "Here’s a Python program that uses ThreadPoolExecutor from concurrent.futures to calculate the factorial of numbers from 1 to 10 concurrently:\n",
        "\n",
        "from concurrent.futures import ThreadPoolExecutor\n",
        "import math\n",
        "\n",
        "# Function to calculate factorial\n",
        "def factorial(n):\n",
        "    result = math.factorial(n)\n",
        "    print(f\"Factorial of {n} is {result}\")\n",
        "    return result\n",
        "\n",
        "# Using ThreadPoolExecutor to manage threads\n",
        "with ThreadPoolExecutor() as executor:\n",
        "    # Submit tasks for numbers 1 to 10\n",
        "    futures = [executor.submit(factorial, i) for i in range(1, 11)]\n",
        "\n",
        "# Collect and print results\n",
        "for future in futures:\n",
        "    future.result()  # Ensures each factorial calculation is completed"
      ],
      "metadata": {
        "id": "GyUV3KgEhA2E"
      },
      "execution_count": null,
      "outputs": []
    },
    {
      "cell_type": "code",
      "source": [
        "## 8. Create a Python program that uses multiprocessing.Pool to compute the square of numbers from 1 to 10 in\n",
        "parallel. Measure the time taken to perform this computation using a pool of different sizes (e.g., 2, 4, 8\n",
        "processes).\n",
        "\n",
        "Here's a Python program that uses multiprocessing.Pool to compute the square of numbers from 1 to 10 in parallel.\n",
        "It also measures the time taken with different pool sizes.\n",
        "\n",
        "rom multiprocessing import Pool\n",
        "import time\n",
        "\n",
        "# Function to compute the square of a number\n",
        "def square(n):\n",
        "    return n * n\n",
        "\n",
        "# Measure time taken for each pool size\n",
        "for pool_size in [2, 4, 8]:\n",
        "    start_time = time.time()\n",
        "\n",
        "    # Using Pool to compute squares in parallel\n",
        "    with Pool(pool_size) as pool:\n",
        "        results = pool.map(square, range(1, 11))\n",
        "\n",
        "    end_time = time.time()\n",
        "    print(f\"Pool Size: {pool_size}, Results: {results}, Time Taken: {end_time - start_time:.4f} seconds\")\n"
      ],
      "metadata": {
        "id": "4-xRPGwGhsxX"
      },
      "execution_count": null,
      "outputs": []
    }
  ]
}